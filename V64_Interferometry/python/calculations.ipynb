{
 "cells": [
  {
   "cell_type": "code",
   "execution_count": 2,
   "id": "8c6abb50",
   "metadata": {},
   "outputs": [],
   "source": [
    "import matplotlib.pyplot as plt\n",
    "import numpy as np\n",
    "import scipy.constants as const\n",
    "from scipy.optimize import curve_fit\n",
    "from uncertainties import ufloat\n",
    "from uncertainties.unumpy import uarray\n",
    "from uncertainties import unumpy as unp\n",
    "from uncertainties.unumpy import (nominal_values as noms,std_devs as stds)\n",
    "from scipy.stats import sem\n",
    "import pandas as pd"
   ]
  },
  {
   "cell_type": "code",
   "execution_count": 10,
   "id": "c296916a",
   "metadata": {},
   "outputs": [],
   "source": [
    "df = pd.read_csv('../data/contrast.csv')"
   ]
  },
  {
   "cell_type": "code",
   "execution_count": null,
   "id": "c708d22d",
   "metadata": {},
   "outputs": [],
   "source": []
  }
 ],
 "metadata": {
  "kernelspec": {
   "display_name": "ml",
   "language": "python",
   "name": "python3"
  },
  "language_info": {
   "codemirror_mode": {
    "name": "ipython",
    "version": 3
   },
   "file_extension": ".py",
   "mimetype": "text/x-python",
   "name": "python",
   "nbconvert_exporter": "python",
   "pygments_lexer": "ipython3",
   "version": "3.12.4"
  }
 },
 "nbformat": 4,
 "nbformat_minor": 5
}
